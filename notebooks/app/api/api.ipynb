{
  "nbformat": 4,
  "nbformat_minor": 0,
  "metadata": {
    "colab": {
      "provenance": []
    },
    "kernelspec": {
      "name": "python3",
      "display_name": "Python 3"
    },
    "language_info": {
      "name": "python"
    }
  },
  "cells": [
    {
      "cell_type": "code",
      "source": [
        "# Activate google drive to access data\n",
        "from google.colab import drive\n",
        "drive.mount('/content/drive')"
      ],
      "metadata": {
        "colab": {
          "base_uri": "https://localhost:8080/"
        },
        "id": "Q-mshcvUA8pp",
        "outputId": "2e434a1b-d812-4583-fbe8-60311f421c1e"
      },
      "execution_count": 1,
      "outputs": [
        {
          "output_type": "stream",
          "name": "stdout",
          "text": [
            "Drive already mounted at /content/drive; to attempt to forcibly remount, call drive.mount(\"/content/drive\", force_remount=True).\n"
          ]
        }
      ]
    },
    {
      "cell_type": "code",
      "source": [
        "import os\n",
        "import sys\n",
        "sys.path.append('/content/drive/MyDrive/Projects/case_study_mT/') # Add data folder to path; adapt this for your own use\n",
        "import json\n",
        "import pandas as pd\n",
        "from fastapi import FastAPI, HTTPException\n",
        "from fastapi.testclient import TestClient\n",
        "from typing import List\n",
        "\n",
        "import importlib\n",
        "sys.path.append('/content/drive/MyDrive/Projects/case_study_mT/notebooks/')\n",
        "from app.model import PatientTrialMatches, TrialMatch\n",
        "sys.path.append('/content/drive/MyDrive/Projects/case_study_mT/src/')\n",
        "import api_utils\n",
        "importlib.reload(api_utils)\n",
        "from api_utils import load_patient_by_id"
      ],
      "metadata": {
        "id": "jo4fZqQ2BFL3"
      },
      "execution_count": 2,
      "outputs": []
    },
    {
      "cell_type": "markdown",
      "source": [
        "### Endpoint to list patients"
      ],
      "metadata": {
        "id": "dFcuxHJiYZVn"
      }
    },
    {
      "cell_type": "code",
      "source": [
        "app = FastAPI(title=\"Trial Search AI Prototype\")\n",
        "\n",
        "@app.get(\"/patients\", response_model=List[str])\n",
        "def list_patients(folder_path=\"/content/drive/MyDrive/Projects/case_study_mT/\"):\n",
        "  \"\"\"\n",
        "  List all available patient IDs based on file(name)s in the folder.\n",
        "  \"\"\"\n",
        "  return [\n",
        "      f.split(\"_\")[1].split(\".\")[0]\n",
        "      for f in os.listdir(folder_path)\n",
        "      if f.startswith(\"patient_\") and f.endswith(\".json\")\n",
        "  ]"
      ],
      "metadata": {
        "id": "nGhBoFmkQGAX"
      },
      "execution_count": 3,
      "outputs": []
    },
    {
      "cell_type": "code",
      "source": [
        "# Endpoint setup test\n",
        "client = TestClient(app)\n",
        "\n",
        "# Test \"/patients\" endpoint\n",
        "response = client.get(\"/patients\")\n",
        "print(\"Status code:\", response.status_code) # 200 means success\n",
        "print(\"Response JSON:\", response.json()) # Expected: ['01', '02', '03'] or alike"
      ],
      "metadata": {
        "colab": {
          "base_uri": "https://localhost:8080/"
        },
        "id": "UQYH3yorWjXf",
        "outputId": "5eb05852-265f-4694-d911-f59ad7a6d708"
      },
      "execution_count": 4,
      "outputs": [
        {
          "output_type": "stream",
          "name": "stdout",
          "text": [
            "Status code: 200\n",
            "Response JSON: ['02', '01', '03']\n"
          ]
        }
      ]
    },
    {
      "cell_type": "markdown",
      "source": [
        "### Endpoint to retrieve eligibility scores for a given patient (under construction)"
      ],
      "metadata": {
        "id": "Bv8r_yN2Yg4o"
      }
    },
    {
      "cell_type": "code",
      "source": [
        "@app.get(\"/patients/{patient_id}/trials\", response_model=PatientTrialMatches)\n",
        "def get_eligibility_scores(patient_id: str):\n",
        "  \"\"\"\n",
        "  Retrieve eligibility scores for a given patient across relevant trials.\n",
        "  \"\"\"\n",
        "  patient = load_patient_by_id(patient_id)\n",
        "  if not patient: # if the patient cannot be found\n",
        "    raise HTTPException(status_code=404, detail=\"Patient not found\")\n",
        "  pass # For later: would add access to the saved json datafile with patient-trial matching results\n",
        "  #return PatientTrialMatches(patient_id=patient_id, trial_matches=trial_matches)"
      ],
      "metadata": {
        "id": "U_Hy4NTLYYL3"
      },
      "execution_count": 5,
      "outputs": []
    }
  ]
}